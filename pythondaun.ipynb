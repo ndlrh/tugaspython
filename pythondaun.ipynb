{
  "nbformat": 4,
  "nbformat_minor": 0,
  "metadata": {
    "colab": {
      "name": "pythondaun.ipynb",
      "provenance": [],
      "authorship_tag": "ABX9TyMXEKHFL5JxJLSdAQp2o3Zx",
      "include_colab_link": true
    },
    "kernelspec": {
      "name": "python3",
      "display_name": "Python 3"
    }
  },
  "cells": [
    {
      "cell_type": "markdown",
      "metadata": {
        "id": "view-in-github",
        "colab_type": "text"
      },
      "source": [
        "<a href=\"https://colab.research.google.com/github/ndlrh/tugaspython/blob/main/pythondaun.ipynb\" target=\"_parent\"><img src=\"https://colab.research.google.com/assets/colab-badge.svg\" alt=\"Open In Colab\"/></a>"
      ]
    },
    {
      "cell_type": "code",
      "metadata": {
        "colab": {
          "base_uri": "https://localhost:8080/"
        },
        "id": "x6lyoBFFTVCj",
        "outputId": "157b2e98-1a46-40ef-e2e9-2bdeea5063fb"
      },
      "source": [
        "from google.colab import drive\n",
        "drive.mount('/content/drive')"
      ],
      "execution_count": 1,
      "outputs": [
        {
          "output_type": "stream",
          "text": [
            "Mounted at /content/drive\n"
          ],
          "name": "stdout"
        }
      ]
    },
    {
      "cell_type": "code",
      "metadata": {
        "colab": {
          "base_uri": "https://localhost:8080/"
        },
        "id": "YCJeVi8IT59B",
        "outputId": "7057e65a-68b7-4a51-bd8c-ea91fd0d0b61"
      },
      "source": [
        "cd /content/drive/MyDrive"
      ],
      "execution_count": 2,
      "outputs": [
        {
          "output_type": "stream",
          "text": [
            "/content/drive/MyDrive\n"
          ],
          "name": "stdout"
        }
      ]
    },
    {
      "cell_type": "code",
      "metadata": {
        "colab": {
          "base_uri": "https://localhost:8080/"
        },
        "id": "vOS4petlUHSl",
        "outputId": "b0e1d6f4-bd19-4f54-cbd3-d4fda17b267a"
      },
      "source": [
        "ls"
      ],
      "execution_count": 3,
      "outputs": [
        {
          "output_type": "stream",
          "text": [
            "'1101194284_Nadillah Rahmatia Kautsari_1.pdf'\n",
            "'1101194284_NADILLAH RAHMATIA KAUTSARI_2.pdf'\n",
            "'1101194284_NADILLAH RAHMATIA KAUTSARI_3.pdf'\n",
            "'1101194284_NADILLAH RAHMATIA KAUTSARI_4.pdf'\n",
            "'1101194284_NADILLAH RAHMATIA KAUTSARI_5.pdf'\n",
            " 1.pdf\n",
            " 2.pdf\n",
            " 3.pdf\n",
            " 4.pdf\n",
            " \u001b[0m\u001b[01;34mClassroom\u001b[0m/\n",
            "'Jurnal Modul 4.pdf'\n",
            "'JURNAL MODUL 5 REG.pdf'\n",
            "'Nadillah Rahmatia Kautsari 1101194284.pdf'\n",
            "'new doc 2020-11-23 12.36.17_20201123123626.pdf'\n",
            "'new doc 2020-11-23 12.45.37_20201123124547.pdf'\n",
            " \u001b[01;34mnnmodel_scene\u001b[0m/\n",
            " \u001b[01;34mPYTHONTUGAS\u001b[0m/\n",
            "\u001b[01;34m'Tugas besar python'\u001b[0m/\n",
            "\u001b[01;34m'TUGAS PYTHON'\u001b[0m/\n",
            "\u001b[01;34m'VIDEO DEMO PYTHON'\u001b[0m/\n"
          ],
          "name": "stdout"
        }
      ]
    },
    {
      "cell_type": "code",
      "metadata": {
        "id": "UKEXzx4LUKNj"
      },
      "source": [
        "from keras.models import Sequential\n",
        "from keras.layers.convolutional import Conv2D\n",
        "from keras.layers.convolutional import MaxPooling2D\n",
        "from keras.layers.core import Activation\n",
        "from keras.layers.core import Flatten\n",
        "from keras.layers.core import Dense\n",
        "from keras.optimizers import Adam\n",
        "from sklearn.preprocessing import LabelBinarizer\n",
        "from sklearn.model_selection import train_test_split\n",
        "from sklearn.metrics import classification_report\n",
        "from PIL import Image\n",
        "from imutils import paths\n",
        "import numpy as np\n",
        "import os"
      ],
      "execution_count": 4,
      "outputs": []
    },
    {
      "cell_type": "code",
      "metadata": {
        "colab": {
          "base_uri": "https://localhost:8080/"
        },
        "id": "NExiUDd_UO_a",
        "outputId": "0437b5a7-6d58-4c4a-8bc1-b9c31d53ddcf"
      },
      "source": [
        "print(\"[INFO] loading images...\")\n",
        "imagePaths = paths.list_images(\"PYTHONTUGAS\")\n",
        "data = []\n",
        "labels = []"
      ],
      "execution_count": 6,
      "outputs": [
        {
          "output_type": "stream",
          "text": [
            "[INFO] loading images...\n"
          ],
          "name": "stdout"
        }
      ]
    },
    {
      "cell_type": "code",
      "metadata": {
        "id": "QuZICEgHUS45"
      },
      "source": [
        "for imagePath in imagePaths:\n",
        "\t# load the input image from disk, resize it to 64x64 pixels, scale\n",
        "\t# the pixel intensities to the range [0, 1], and then update our\n",
        "\t# images list\n",
        "\timage = Image.open(imagePath)\n",
        "\timage = np.array(image.resize((32, 32))) / 255.0 #normalisasi\n",
        "\tdata.append(image)\n",
        "\n",
        "\t# extract the class label from the file path and update the\n",
        "\t# labels list\n",
        "\tlabel = imagePath.split(os.path.sep)[-2]\n",
        "\tlabels.append(label)"
      ],
      "execution_count": 7,
      "outputs": []
    },
    {
      "cell_type": "code",
      "metadata": {
        "colab": {
          "base_uri": "https://localhost:8080/"
        },
        "id": "1bk5aq8qVrUC",
        "outputId": "aec5eaa4-ee9c-4fac-cc29-11c9ee3e91af"
      },
      "source": [
        "print(labels)"
      ],
      "execution_count": 8,
      "outputs": [
        {
          "output_type": "stream",
          "text": [
            "['satuGMB', 'satuGMB', 'satuGMB', 'satuGMB', 'satuGMB', 'satuGMB', 'satuGMB', 'satuGMB', 'satuGMB', 'satuGMB', 'satuGMB', 'satuGMB', 'satuGMB', 'satuGMB', 'satuGMB', 'satuGMB', 'satuGMB', 'satuGMB', 'satuGMB', 'satuGMB', 'satuGMB', 'satuGMB', 'satuGMB', 'satuGMB', 'satuGMB', 'satuGMB', 'satuGMB', 'satuGMB', 'satuGMB', 'satuGMB', 'satuGMB', 'satuGMB', 'satuGMB', 'satuGMB', 'satuGMB', 'satuGMB', 'satuGMB', 'satuGMB', 'satuGMB', 'satuGMB', 'satuGMB', 'satuGMB', 'satuGMB', 'satuGMB', 'satuGMB', 'satuGMB', 'satuGMB', 'satuGMB', 'satuGMB', 'satuGMB', 'satuGMB', 'satuGMB', 'satuGMB', 'satuGMB', 'satuGMB', 'satuGMB', 'satuGMB', 'satuGMB', 'satuGMB', 'satuGMB', 'satuGMB', 'satuGMB', 'satuGMB', 'satuGMB', 'satuGMB', 'satuGMB', 'satuGMB', 'satuGMB', 'satuGMB', 'satuGMB', 'satuGMB', 'satuGMB', 'satuGMB', 'satuGMB', 'satuGMB', 'satuGMB', 'satuGMB', 'satuGMB', 'satuGMB', 'satuGMB', 'satuGMB', 'satuGMB', 'satuGMB', 'satuGMB', 'satuGMB', 'satuGMB', 'satuGMB', 'satuGMB', 'satuGMB', 'satuGMB', 'satuGMB', 'satuGMB', 'satuGMB', 'satuGMB', 'satuGMB', 'satuGMB', 'satuGMB', 'satuGMB', 'satuGMB', 'satuGMB', 'satuGMB', 'satuGMB', 'satuGMB', 'satuGMB', 'satuGMB', 'satuGMB', 'satuGMB', 'satuGMB', 'satuGMB', 'satuGMB', 'satuGMB', 'satuGMB', 'satuGMB', 'satuGMB', 'satuGMB', 'satuGMB', 'tigaGMB', 'tigaGMB', 'tigaGMB', 'tigaGMB', 'tigaGMB', 'tigaGMB', 'tigaGMB', 'tigaGMB', 'tigaGMB', 'tigaGMB', 'tigaGMB', 'tigaGMB', 'tigaGMB', 'tigaGMB', 'tigaGMB', 'tigaGMB', 'tigaGMB', 'tigaGMB', 'tigaGMB', 'tigaGMB', 'tigaGMB', 'tigaGMB', 'tigaGMB', 'tigaGMB', 'tigaGMB', 'tigaGMB', 'tigaGMB', 'tigaGMB', 'tigaGMB', 'tigaGMB', 'tigaGMB', 'tigaGMB', 'tigaGMB', 'tigaGMB', 'tigaGMB', 'tigaGMB', 'tigaGMB', 'tigaGMB', 'tigaGMB', 'tigaGMB', 'tigaGMB', 'tigaGMB', 'tigaGMB', 'tigaGMB', 'tigaGMB', 'tigaGMB', 'tigaGMB', 'tigaGMB', 'tigaGMB', 'tigaGMB', 'tigaGMB', 'tigaGMB', 'tigaGMB', 'tigaGMB', 'tigaGMB', 'tigaGMB', 'tigaGMB', 'tigaGMB', 'tigaGMB', 'tigaGMB', 'tigaGMB', 'tigaGMB', 'tigaGMB', 'tigaGMB', 'tigaGMB', 'tigaGMB', 'tigaGMB', 'tigaGMB', 'tigaGMB', 'tigaGMB', 'tigaGMB', 'tigaGMB', 'tigaGMB', 'tigaGMB', 'tigaGMB', 'tigaGMB', 'tigaGMB', 'tigaGMB', 'tigaGMB', 'tigaGMB', 'tigaGMB', 'tigaGMB', 'tigaGMB', 'tigaGMB', 'tigaGMB', 'tigaGMB', 'tigaGMB', 'tigaGMB', 'tigaGMB', 'tigaGMB', 'tigaGMB', 'tigaGMB', 'tigaGMB', 'tigaGMB', 'tigaGMB', 'tigaGMB', 'tigaGMB', 'tigaGMB', 'tigaGMB', 'tigaGMB', 'tigaGMB', 'tigaGMB', 'tigaGMB', 'tigaGMB', 'tigaGMB', 'tigaGMB', 'tigaGMB', 'tigaGMB', 'tigaGMB', 'tigaGMB', 'tigaGMB', 'tigaGMB', 'limaGMB', 'limaGMB', 'limaGMB', 'limaGMB', 'limaGMB', 'limaGMB', 'limaGMB', 'limaGMB', 'limaGMB', 'limaGMB', 'limaGMB', 'limaGMB', 'limaGMB', 'limaGMB', 'limaGMB', 'limaGMB', 'limaGMB', 'limaGMB', 'limaGMB', 'limaGMB', 'limaGMB', 'limaGMB', 'limaGMB', 'limaGMB', 'limaGMB', 'limaGMB', 'limaGMB', 'limaGMB', 'limaGMB', 'limaGMB', 'limaGMB', 'limaGMB', 'limaGMB', 'limaGMB', 'limaGMB', 'limaGMB', 'limaGMB', 'limaGMB', 'limaGMB', 'limaGMB', 'limaGMB', 'limaGMB', 'limaGMB', 'limaGMB', 'limaGMB', 'limaGMB', 'limaGMB', 'limaGMB', 'limaGMB', 'limaGMB', 'limaGMB', 'limaGMB', 'limaGMB', 'limaGMB', 'limaGMB', 'limaGMB', 'limaGMB', 'limaGMB', 'limaGMB', 'limaGMB', 'limaGMB', 'limaGMB', 'limaGMB', 'limaGMB', 'limaGMB', 'limaGMB', 'limaGMB', 'limaGMB', 'limaGMB', 'limaGMB', 'limaGMB', 'limaGMB', 'limaGMB', 'limaGMB', 'limaGMB', 'limaGMB', 'limaGMB', 'limaGMB', 'limaGMB', 'limaGMB', 'limaGMB', 'limaGMB', 'limaGMB', 'limaGMB', 'limaGMB', 'limaGMB', 'limaGMB', 'limaGMB', 'limaGMB', 'limaGMB', 'limaGMB', 'limaGMB', 'limaGMB', 'limaGMB', 'limaGMB', 'limaGMB', 'limaGMB', 'limaGMB', 'limaGMB', 'limaGMB', 'limaGMB', 'limaGMB', 'limaGMB', 'limaGMB', 'limaGMB', 'limaGMB', 'limaGMB', 'limaGMB', 'limaGMB', 'limaGMB', 'limaGMB', 'limaGMB', 'limaGMB', 'limaGMB', 'limaGMB', 'limaGMB', 'limaGMB', 'limaGMB', 'limaGMB', 'limaGMB', 'limaGMB', 'enamGMB', 'enamGMB', 'enamGMB', 'enamGMB', 'enamGMB', 'enamGMB', 'enamGMB', 'enamGMB', 'enamGMB', 'enamGMB', 'enamGMB', 'enamGMB', 'enamGMB', 'enamGMB', 'enamGMB', 'enamGMB', 'enamGMB', 'enamGMB', 'enamGMB', 'enamGMB', 'enamGMB', 'enamGMB', 'enamGMB', 'enamGMB', 'enamGMB', 'enamGMB', 'enamGMB', 'enamGMB', 'enamGMB', 'enamGMB', 'enamGMB', 'enamGMB', 'enamGMB', 'enamGMB', 'enamGMB', 'enamGMB', 'enamGMB', 'enamGMB', 'enamGMB', 'enamGMB', 'enamGMB', 'enamGMB', 'enamGMB', 'enamGMB', 'enamGMB', 'enamGMB', 'enamGMB', 'enamGMB', 'enamGMB', 'enamGMB', 'enamGMB', 'enamGMB', 'enamGMB', 'enamGMB', 'enamGMB', 'enamGMB', 'enamGMB', 'enamGMB', 'enamGMB', 'enamGMB', 'enamGMB', 'enamGMB', 'enamGMB', 'enamGMB', 'enamGMB', 'enamGMB', 'enamGMB', 'enamGMB', 'enamGMB', 'enamGMB', 'enamGMB', 'enamGMB', 'enamGMB', 'enamGMB', 'enamGMB', 'enamGMB', 'enamGMB', 'enamGMB', 'enamGMB', 'enamGMB', 'enamGMB', 'enamGMB', 'enamGMB', 'enamGMB', 'enamGMB', 'enamGMB', 'enamGMB', 'enamGMB', 'enamGMB', 'enamGMB', 'enamGMB', 'enamGMB', 'enamGMB', 'enamGMB', 'enamGMB', 'enamGMB', 'enamGMB', 'enamGMB', 'enamGMB', 'enamGMB', 'enamGMB', 'enamGMB', 'enamGMB', 'enamGMB', 'enamGMB', 'enamGMB', 'enamGMB', 'enamGMB', 'enamGMB', 'enamGMB', 'enamGMB', 'enamGMB', 'enamGMB', 'enamGMB', 'enamGMB', 'enamGMB', 'enamGMB', 'enamGMB', 'enamGMB', 'enamGMB', 'enamGMB', 'empatGMB', 'empatGMB', 'empatGMB', 'empatGMB', 'empatGMB', 'empatGMB', 'empatGMB', 'empatGMB', 'empatGMB', 'empatGMB', 'empatGMB', 'empatGMB', 'empatGMB', 'empatGMB', 'empatGMB', 'empatGMB', 'empatGMB', 'empatGMB', 'empatGMB', 'empatGMB', 'empatGMB', 'empatGMB', 'empatGMB', 'empatGMB', 'empatGMB', 'empatGMB', 'empatGMB', 'empatGMB', 'empatGMB', 'empatGMB', 'empatGMB', 'empatGMB', 'empatGMB', 'empatGMB', 'empatGMB', 'empatGMB', 'empatGMB', 'empatGMB', 'empatGMB', 'empatGMB', 'empatGMB', 'empatGMB', 'empatGMB', 'empatGMB', 'empatGMB', 'empatGMB', 'empatGMB', 'empatGMB', 'empatGMB', 'empatGMB', 'empatGMB', 'empatGMB', 'empatGMB', 'empatGMB', 'empatGMB', 'empatGMB', 'empatGMB', 'empatGMB', 'empatGMB', 'empatGMB', 'empatGMB', 'empatGMB', 'empatGMB', 'empatGMB', 'empatGMB', 'empatGMB', 'empatGMB', 'empatGMB', 'empatGMB', 'empatGMB', 'empatGMB', 'empatGMB', 'empatGMB', 'empatGMB', 'empatGMB', 'empatGMB', 'empatGMB', 'empatGMB', 'empatGMB', 'empatGMB', 'empatGMB', 'empatGMB', 'empatGMB', 'empatGMB', 'empatGMB', 'empatGMB', 'empatGMB', 'empatGMB', 'empatGMB', 'empatGMB', 'empatGMB', 'empatGMB', 'empatGMB', 'empatGMB', 'empatGMB', 'empatGMB', 'empatGMB', 'empatGMB', 'empatGMB', 'empatGMB', 'empatGMB', 'empatGMB', 'empatGMB', 'empatGMB', 'empatGMB', 'empatGMB', 'empatGMB', 'empatGMB', 'empatGMB', 'empatGMB', 'empatGMB', 'empatGMB', 'empatGMB', 'empatGMB', 'empatGMB', 'empatGMB', 'empatGMB', 'empatGMB', 'empatGMB', 'empatGMB', 'empatGMB', 'empatGMB']\n"
          ],
          "name": "stdout"
        }
      ]
    },
    {
      "cell_type": "code",
      "metadata": {
        "id": "JqRGgm3GVs1_"
      },
      "source": [
        "lb = LabelBinarizer()\n",
        "labels = lb.fit_transform(labels)"
      ],
      "execution_count": 9,
      "outputs": []
    },
    {
      "cell_type": "code",
      "metadata": {
        "colab": {
          "base_uri": "https://localhost:8080/"
        },
        "id": "uFARUiAXVvZb",
        "outputId": "8a80dd58-7d4f-4c58-a09b-e0bb9f2df663"
      },
      "source": [
        "print(labels)"
      ],
      "execution_count": 10,
      "outputs": [
        {
          "output_type": "stream",
          "text": [
            "[[0 0 0 1 0]\n",
            " [0 0 0 1 0]\n",
            " [0 0 0 1 0]\n",
            " ...\n",
            " [1 0 0 0 0]\n",
            " [1 0 0 0 0]\n",
            " [1 0 0 0 0]]\n"
          ],
          "name": "stdout"
        }
      ]
    },
    {
      "cell_type": "code",
      "metadata": {
        "colab": {
          "base_uri": "https://localhost:8080/"
        },
        "id": "LtnddvOMVyK6",
        "outputId": "d14834c6-10c8-4041-f50f-bbc3b11720b3"
      },
      "source": [
        "(trainX, testX, trainY, testY) = train_test_split(np.array(data),\tnp.array(labels), test_size=0.25)\n",
        "print(trainX.shape)\n",
        "print(testX.shape)"
      ],
      "execution_count": 11,
      "outputs": [
        {
          "output_type": "stream",
          "text": [
            "(444, 32, 32, 3)\n",
            "(148, 32, 32, 3)\n"
          ],
          "name": "stdout"
        }
      ]
    },
    {
      "cell_type": "code",
      "metadata": {
        "colab": {
          "base_uri": "https://localhost:8080/"
        },
        "id": "xaZlSzyOV3eo",
        "outputId": "0627548b-b70e-4fa5-f349-ba2142d0c8e2"
      },
      "source": [
        "from keras.layers import Convolution2D, MaxPooling2D, MaxPool2D\n",
        "from keras.models import Sequential\n",
        "from keras.layers.core import Flatten, Dense\n",
        "\n",
        "model1 = Sequential()\n",
        "model1.add(Convolution2D(8, (3,3), activation='relu', input_shape=(32,32,3)))\n",
        "model1.add(MaxPool2D(2,2))\n",
        "model1.add(Convolution2D(16, (3,3), activation='relu'))\n",
        "model1.add(MaxPool2D(2,2))\n",
        "#fully connected layer\n",
        "model1.add(Flatten())\n",
        "model1.add(Dense(100, activation='relu'))\n",
        "model1.add(Dense(5, activation='softmax'))\n",
        "\n",
        "model1.summary()"
      ],
      "execution_count": 12,
      "outputs": [
        {
          "output_type": "stream",
          "text": [
            "Model: \"sequential\"\n",
            "_________________________________________________________________\n",
            "Layer (type)                 Output Shape              Param #   \n",
            "=================================================================\n",
            "conv2d (Conv2D)              (None, 30, 30, 8)         224       \n",
            "_________________________________________________________________\n",
            "max_pooling2d (MaxPooling2D) (None, 15, 15, 8)         0         \n",
            "_________________________________________________________________\n",
            "conv2d_1 (Conv2D)            (None, 13, 13, 16)        1168      \n",
            "_________________________________________________________________\n",
            "max_pooling2d_1 (MaxPooling2 (None, 6, 6, 16)          0         \n",
            "_________________________________________________________________\n",
            "flatten (Flatten)            (None, 576)               0         \n",
            "_________________________________________________________________\n",
            "dense (Dense)                (None, 100)               57700     \n",
            "_________________________________________________________________\n",
            "dense_1 (Dense)              (None, 5)                 505       \n",
            "=================================================================\n",
            "Total params: 59,597\n",
            "Trainable params: 59,597\n",
            "Non-trainable params: 0\n",
            "_________________________________________________________________\n"
          ],
          "name": "stdout"
        }
      ]
    },
    {
      "cell_type": "code",
      "metadata": {
        "colab": {
          "base_uri": "https://localhost:8080/"
        },
        "id": "ibsOpsTzV5vE",
        "outputId": "fad86d1d-adf8-4973-be52-e46c55e51fed"
      },
      "source": [
        "print(\"[INFO] training network...\")\n",
        "opt = Adam(lr=1e-3, decay=1e-3 / 50)\n",
        "model1.compile(loss=\"categorical_crossentropy\", optimizer=opt, metrics=[\"accuracy\"])"
      ],
      "execution_count": 13,
      "outputs": [
        {
          "output_type": "stream",
          "text": [
            "[INFO] training network...\n"
          ],
          "name": "stdout"
        }
      ]
    },
    {
      "cell_type": "code",
      "metadata": {
        "colab": {
          "base_uri": "https://localhost:8080/"
        },
        "id": "b3eV4z_vV9cy",
        "outputId": "d6a22fe3-0c0b-47f5-b9af-cf5d21304981"
      },
      "source": [
        "H = model1.fit(trainX, trainY, validation_data=(testX, testY), epochs=17, batch_size=30)"
      ],
      "execution_count": 38,
      "outputs": [
        {
          "output_type": "stream",
          "text": [
            "Epoch 1/17\n",
            "15/15 [==============================] - 0s 22ms/step - loss: 0.0016 - accuracy: 1.0000 - val_loss: 1.2627 - val_accuracy: 0.7973\n",
            "Epoch 2/17\n",
            "15/15 [==============================] - 0s 21ms/step - loss: 0.0016 - accuracy: 1.0000 - val_loss: 1.2593 - val_accuracy: 0.7905\n",
            "Epoch 3/17\n",
            "15/15 [==============================] - 0s 19ms/step - loss: 0.0016 - accuracy: 1.0000 - val_loss: 1.2540 - val_accuracy: 0.7905\n",
            "Epoch 4/17\n",
            "15/15 [==============================] - 0s 19ms/step - loss: 0.0015 - accuracy: 1.0000 - val_loss: 1.2637 - val_accuracy: 0.7973\n",
            "Epoch 5/17\n",
            "15/15 [==============================] - 0s 19ms/step - loss: 0.0015 - accuracy: 1.0000 - val_loss: 1.2730 - val_accuracy: 0.8041\n",
            "Epoch 6/17\n",
            "15/15 [==============================] - 0s 19ms/step - loss: 0.0014 - accuracy: 1.0000 - val_loss: 1.2584 - val_accuracy: 0.7905\n",
            "Epoch 7/17\n",
            "15/15 [==============================] - 0s 19ms/step - loss: 0.0014 - accuracy: 1.0000 - val_loss: 1.2805 - val_accuracy: 0.7973\n",
            "Epoch 8/17\n",
            "15/15 [==============================] - 0s 20ms/step - loss: 0.0014 - accuracy: 1.0000 - val_loss: 1.2681 - val_accuracy: 0.7905\n",
            "Epoch 9/17\n",
            "15/15 [==============================] - 0s 19ms/step - loss: 0.0014 - accuracy: 1.0000 - val_loss: 1.2803 - val_accuracy: 0.7905\n",
            "Epoch 10/17\n",
            "15/15 [==============================] - 0s 18ms/step - loss: 0.0014 - accuracy: 1.0000 - val_loss: 1.2687 - val_accuracy: 0.7905\n",
            "Epoch 11/17\n",
            "15/15 [==============================] - 0s 19ms/step - loss: 0.0014 - accuracy: 1.0000 - val_loss: 1.2775 - val_accuracy: 0.7973\n",
            "Epoch 12/17\n",
            "15/15 [==============================] - 0s 19ms/step - loss: 0.0014 - accuracy: 1.0000 - val_loss: 1.2696 - val_accuracy: 0.7973\n",
            "Epoch 13/17\n",
            "15/15 [==============================] - 0s 19ms/step - loss: 0.0013 - accuracy: 1.0000 - val_loss: 1.2914 - val_accuracy: 0.7905\n",
            "Epoch 14/17\n",
            "15/15 [==============================] - 0s 19ms/step - loss: 0.0013 - accuracy: 1.0000 - val_loss: 1.2802 - val_accuracy: 0.7905\n",
            "Epoch 15/17\n",
            "15/15 [==============================] - 0s 19ms/step - loss: 0.0012 - accuracy: 1.0000 - val_loss: 1.2884 - val_accuracy: 0.7973\n",
            "Epoch 16/17\n",
            "15/15 [==============================] - 0s 19ms/step - loss: 0.0012 - accuracy: 1.0000 - val_loss: 1.2768 - val_accuracy: 0.7973\n",
            "Epoch 17/17\n",
            "15/15 [==============================] - 0s 19ms/step - loss: 0.0013 - accuracy: 1.0000 - val_loss: 1.2952 - val_accuracy: 0.7973\n"
          ],
          "name": "stdout"
        }
      ]
    },
    {
      "cell_type": "code",
      "metadata": {
        "colab": {
          "base_uri": "https://localhost:8080/",
          "height": 590
        },
        "id": "ucII0KARWDgT",
        "outputId": "db9aba38-0bd1-4528-e631-498bd6613a42"
      },
      "source": [
        "import matplotlib.pyplot as plt\n",
        "\n",
        "print(H.history.keys())\n",
        "# summarize history for accuracy\n",
        "plt.plot(H.history['accuracy'])\n",
        "plt.plot(H.history['val_accuracy'])\n",
        "plt.title('model accuracy')\n",
        "plt.ylabel('accuracy')\n",
        "plt.xlabel('epoch')\n",
        "plt.legend(['train', 'test'], loc='upper left')\n",
        "plt.show()\n",
        "# summarize history for loss\n",
        "plt.plot(H.history['loss'])\n",
        "plt.plot(H.history['val_loss'])\n",
        "plt.title('model loss')\n",
        "plt.ylabel('loss')\n",
        "plt.xlabel('epoch')\n",
        "plt.legend(['train', 'test'], loc='upper left')\n",
        "plt.show()"
      ],
      "execution_count": 39,
      "outputs": [
        {
          "output_type": "stream",
          "text": [
            "dict_keys(['loss', 'accuracy', 'val_loss', 'val_accuracy'])\n"
          ],
          "name": "stdout"
        },
        {
          "output_type": "display_data",
          "data": {
            "image/png": "[encoded data removed]",
            "text/plain": [
              "<Figure size 432x288 with 1 Axes>"
            ]
          },
          "metadata": {
            "tags": [],
            "needs_background": "light"
          }
        },
        {
          "output_type": "display_data",
          "data": {
            "image/png": "[encoded data removed]",
            "text/plain": [
              "<Figure size 432x288 with 1 Axes>"
            ]
          },
          "metadata": {
            "tags": [],
            "needs_background": "light"
          }
        }
      ]
    },
    {
      "cell_type": "code",
      "metadata": {
        "colab": {
          "base_uri": "https://localhost:8080/"
        },
        "id": "IAt07DWlWHvt",
        "outputId": "e7f0cadc-8579-4085-c747-3de55026fb8b"
      },
      "source": [
        "# evaluate the network\n",
        "print(\"[INFO] evaluating network...\")\n",
        "predictions = model1.predict(testX, batch_size=32)\n",
        "print(classification_report(testY.argmax(axis=1),\n",
        "\tpredictions.argmax(axis=1), target_names=lb.classes_))"
      ],
      "execution_count": 40,
      "outputs": [
        {
          "output_type": "stream",
          "text": [
            "[INFO] evaluating network...\n",
            "              precision    recall  f1-score   support\n",
            "\n",
            "    empatGMB       0.80      0.74      0.77        27\n",
            "     enamGMB       0.78      0.85      0.81        33\n",
            "     limaGMB       0.93      0.82      0.87        34\n",
            "     satuGMB       0.69      0.77      0.73        26\n",
            "     tigaGMB       0.79      0.79      0.79        28\n",
            "\n",
            "    accuracy                           0.80       148\n",
            "   macro avg       0.80      0.79      0.79       148\n",
            "weighted avg       0.80      0.80      0.80       148\n",
            "\n"
          ],
          "name": "stdout"
        }
      ]
    }
  ]
}